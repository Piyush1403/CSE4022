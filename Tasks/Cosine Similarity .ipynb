{
 "cells": [
  {
   "cell_type": "code",
   "execution_count": 8,
   "metadata": {},
   "outputs": [],
   "source": [
    "import nltk\n",
    "from sklearn.metrics.pairwise import cosine_similarity\n",
    "from sklearn.feature_extraction.text import TfidfVectorizer\n",
    "from nltk.corpus import stopwords"
   ]
  },
  {
   "cell_type": "code",
   "execution_count": 9,
   "metadata": {},
   "outputs": [],
   "source": [
    "text1 = \"\"\"One of the finer books I read this year was John Kaag’s Hiking With Nietzsche, in which Kaag, a professor of philosophy, rekindles his passion for the German thinker while tracing picturesque hiking trails in the mountains of Switzerland. \n",
    "It’s a near-precise rendering of the travelogue as a self-help book. \n",
    "A young Kaag was an avowed Nietzsche acolyte but given the ravages of responsibilities and adulthood, the writer put his affinity to test by undertaking physically enduring hikes through the Alps, revisiting haunts that the philosopher escaped to, in search of solitude and salve. \n",
    "The journey’s demands, coupled with his own inner turmoil, are catnip for anybody feeling at cross purposes with their own life.\n",
    "\n",
    "In the book, Kaag quotes Neitzsche writing to his mother after he had spent time in Splügen, “I was overcome by the desire to remain here… this high alpine valley… There are pure, strong gusts of air, hills and boulders of all shapes… But what pleases me the most are the splendid highroads over which I walk for hours.” \n",
    "Travel as the answer to searching questions is hardly a radical idea but what’s endearing about the book is that it subtly confirms a basic tenet of why we go on these journeys in the first place. \n",
    "Sometimes, being on the move matters more than anything else. \"\"\""
   ]
  },
  {
   "cell_type": "code",
   "execution_count": 10,
   "metadata": {},
   "outputs": [],
   "source": [
    "text2 = \"\"\"If there is a phrase I would prefer to retire from online bios, personal or professional, it is, “I love travel.” \n",
    "Or some approximation of that sentiment. \n",
    "To clarify, I am not against travellers or those who proudly flaunt their passion for travel. \n",
    "On the contrary, editing a travel magazine has now made me oddly protective of travellers and their ilk. \n",
    "My submission is that “love to travel,” suggested so casually, just doesn’t feel adequate to the depth of emotion it sparks in true devotees.\n",
    "In February, the month of love as endowed by our great gifting industrial complex, we are wrestling with what “love for travel” means in tangible, life-affecting terms. \n",
    "The early throes of discovering travel might not be too dissimilar to the beginnings of a feverish affair.\n",
    "A fleeting scene, sound or feeling that at first arouses, then enchants and eventually, lures us into a hypnotic state, evoking woolly-eyed reveries about what could be.\"\"\""
   ]
  },
  {
   "cell_type": "code",
   "execution_count": 11,
   "metadata": {},
   "outputs": [],
   "source": [
    "text3 = \"\"\"Summer is a charming flirt. Easy-going and casual. \n",
    "Summer doesn’t huff and puff to win our affections. It has us at “Hello.” Winter broods like the tortured protagonist of big fat Russian novel. It is daunting and dramatic, burning with a slow intensity.\n",
    "The season’s reputation precedes itself, and often, not in a good way. \n",
    "It has a way of whittling down everything to its bare bones. \n",
    "Even relationships not attuned to its ebbs and flows can fray. \n",
    "At a dinner conversation I once attended, I listened in bemusement as a recent divorcee made the case that it was the Scandinavian frost that had cooled his ex-wife’s ardour. How original.\n",
    "Winter travel is an exercise in negotiation, especially for sunshine souls. \n",
    "“How many extra clothes do I have to pack now?” “The weather is minus-what-did-you-say?” All valid concerns but the recommendations far outweigh them. Take one trivial scoring point: the winter wardrobe, which is tres chic, and can make the most sartorially challenged among us look like runway models.\n",
    "The allure of winter lies in nature—so immense, overwhelming and, of course, achingly beautiful. In his collection of letters to an unborn daughter, Norwegian Karl Ove Knausgård meditates on the sounds of the season.\"\"\""
   ]
  },
  {
   "cell_type": "code",
   "execution_count": 12,
   "metadata": {},
   "outputs": [
    {
     "data": {
      "text/plain": [
       "['One of the finer books I read this year was John Kaag’s Hiking With Nietzsche, in which Kaag, a professor of philosophy, rekindles his passion for the German thinker while tracing picturesque hiking trails in the mountains of Switzerland. \\nIt’s a near-precise rendering of the travelogue as a self-help book. \\nA young Kaag was an avowed Nietzsche acolyte but given the ravages of responsibilities and adulthood, the writer put his affinity to test by undertaking physically enduring hikes through the Alps, revisiting haunts that the philosopher escaped to, in search of solitude and salve. \\nThe journey’s demands, coupled with his own inner turmoil, are catnip for anybody feeling at cross purposes with their own life.\\n\\nIn the book, Kaag quotes Neitzsche writing to his mother after he had spent time in Splügen, “I was overcome by the desire to remain here… this high alpine valley… There are pure, strong gusts of air, hills and boulders of all shapes… But what pleases me the most are the splendid highroads over which I walk for hours.” \\nTravel as the answer to searching questions is hardly a radical idea but what’s endearing about the book is that it subtly confirms a basic tenet of why we go on these journeys in the first place. \\nSometimes, being on the move matters more than anything else. ',\n",
       " 'If there is a phrase I would prefer to retire from online bios, personal or professional, it is, “I love travel.” \\nOr some approximation of that sentiment. \\nTo clarify, I am not against travellers or those who proudly flaunt their passion for travel. \\nOn the contrary, editing a travel magazine has now made me oddly protective of travellers and their ilk. \\nMy submission is that “love to travel,” suggested so casually, just doesn’t feel adequate to the depth of emotion it sparks in true devotees.\\nIn February, the month of love as endowed by our great gifting industrial complex, we are wrestling with what “love for travel” means in tangible, life-affecting terms. \\nThe early throes of discovering travel might not be too dissimilar to the beginnings of a feverish affair.\\nA fleeting scene, sound or feeling that at first arouses, then enchants and eventually, lures us into a hypnotic state, evoking woolly-eyed reveries about what could be.',\n",
       " 'Summer is a charming flirt. Easy-going and casual. \\nSummer doesn’t huff and puff to win our affections. It has us at “Hello.” Winter broods like the tortured protagonist of big fat Russian novel. It is daunting and dramatic, burning with a slow intensity.\\nThe season’s reputation precedes itself, and often, not in a good way. \\nIt has a way of whittling down everything to its bare bones. \\nEven relationships not attuned to its ebbs and flows can fray. \\nAt a dinner conversation I once attended, I listened in bemusement as a recent divorcee made the case that it was the Scandinavian frost that had cooled his ex-wife’s ardour. How original.\\nWinter travel is an exercise in negotiation, especially for sunshine souls. \\n“How many extra clothes do I have to pack now?” “The weather is minus-what-did-you-say?” All valid concerns but the recommendations far outweigh them. Take one trivial scoring point: the winter wardrobe, which is tres chic, and can make the most sartorially challenged among us look like runway models.\\nThe allure of winter lies in nature—so immense, overwhelming and, of course, achingly beautiful. In his collection of letters to an unborn daughter, Norwegian Karl Ove Knausgård meditates on the sounds of the season.']"
      ]
     },
     "execution_count": 12,
     "metadata": {},
     "output_type": "execute_result"
    }
   ],
   "source": [
    "corpus = [text1, text2, text3]; corpus"
   ]
  },
  {
   "cell_type": "code",
   "execution_count": 14,
   "metadata": {},
   "outputs": [],
   "source": [
    "stopWords = stopwords.words('english')"
   ]
  },
  {
   "cell_type": "code",
   "execution_count": 15,
   "metadata": {},
   "outputs": [],
   "source": [
    "tfidf_vectorizer = TfidfVectorizer(stop_words=stopWords)"
   ]
  },
  {
   "cell_type": "code",
   "execution_count": 16,
   "metadata": {},
   "outputs": [],
   "source": [
    "tfidf_matrix_train = tfidf_vectorizer.fit_transform(corpus)"
   ]
  },
  {
   "cell_type": "code",
   "execution_count": 19,
   "metadata": {},
   "outputs": [
    {
     "name": "stdout",
     "output_type": "stream",
     "text": [
      "\n",
      "Similarity Score : [[ 1.          0.03836205  0.00689266]]\n"
     ]
    }
   ],
   "source": [
    "print (\"\\nSimilarity Score :\",cosine_similarity(tfidf_matrix_train[0:1], tfidf_matrix_train))"
   ]
  }
 ],
 "metadata": {
  "kernelspec": {
   "display_name": "Python [conda env:anaconda3]",
   "language": "python",
   "name": "conda-env-anaconda3-py"
  },
  "language_info": {
   "codemirror_mode": {
    "name": "ipython",
    "version": 3
   },
   "file_extension": ".py",
   "mimetype": "text/x-python",
   "name": "python",
   "nbconvert_exporter": "python",
   "pygments_lexer": "ipython3",
   "version": "3.6.8"
  }
 },
 "nbformat": 4,
 "nbformat_minor": 2
}
